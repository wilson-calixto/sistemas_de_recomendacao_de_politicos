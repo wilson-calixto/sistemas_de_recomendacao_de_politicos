{
 "cells": [
  {
   "cell_type": "markdown",
   "metadata": {},
   "source": [
    "# Sistemas de recomendação de políticos"
   ]
  },
  {
   "cell_type": "markdown",
   "metadata": {},
   "source": [
    "## Descrição:"
   ]
  },
  {
   "cell_type": "raw",
   "metadata": {},
   "source": [
    "O sistema é composto de um dicionário onde cada chave corresponde a um candidato e seus valores correspondem a \n",
    "outro dicionário, cujas chaves são:\n",
    "        As urls das páginas que serão solicitadas;\n",
    "        As palavras que serão buscadas;\n",
    "    \n",
    "    "
   ]
  },
  {
   "cell_type": "code",
   "execution_count": 31,
   "metadata": {
    "collapsed": true
   },
   "outputs": [],
   "source": [
    "dicionario_geral = {\n",
    "\n",
    "    'Levi':\n",
    "          {\n",
    "            \n",
    "            'urls':\n",
    "                  {'url1': \"http://congressoemfoco.uol.com.br/eleicoes-2014/programa-de-governo-de-levy-fidelix/\",\n",
    "                  'url2': \"http://congressoemfoco.uol.com.br/eleicoes-2014/programa-de-governo-de-levy-fidelix/\"\n",
    "                  },       \n",
    "\n",
    "            'economia':\n",
    "                {'Total': 0,\n",
    "                'PRODUÇÃO': 0,\n",
    "                 'PRODUTIVIDADE': 0,\n",
    "                 'MERCADO': 0,\n",
    "                 'INDÚSTRIA': 0,\n",
    "                 'COMÉRCIO': 0,\n",
    "                 'AGRICULTURA': 0,\n",
    "                 'SERVIÇOS': 0,\n",
    "                 'DESENVOLVIMENTO ECONÔMICO': 0,\n",
    "                 'FINANCEIRO': 0       \n",
    "                 },\n",
    "            'seguranca':\n",
    "                {'Total': 0,\n",
    "                'segurança': 0,\n",
    "                 'PRODUTIVIDADE': 0,\n",
    "                 'MERCADO': 0,\n",
    "                 'INDÚSTRIA': 0,\n",
    "                 'COMÉRCIO': 0,\n",
    "                 'AGRICULTURA': 0,\n",
    "                 'SERVIÇOS': 0,\n",
    "                 'DESENVOLVIMENTO ECONÔMICO': 0,\n",
    "                 'FINANCEIRO': 0       \n",
    "                 },\n",
    "\n",
    "\n",
    "            'saude':\n",
    "                  {'Total': 0,\n",
    "                  'SAÚDE': 0,\n",
    "                  'Hospital': 0,\n",
    "                   'enfermeira': 0,\n",
    "                   'enfermeiro': 0,\n",
    "                   \n",
    "                  \n",
    "                  \n",
    "\n",
    "                  }\n",
    "        },\n",
    "      \n",
    "    'Lula':\n",
    "          {\n",
    "            \n",
    "            'urls':\n",
    "                  {'url1': \"http://congressoemfoco.uol.com.br/eleicoes-2014/programa-de-governo-de-levy-fidelix/\",\n",
    "                  'url2': \"http://congressoemfoco.uol.com.br/eleicoes-2014/programa-de-governo-de-levy-fidelix/\"\n",
    "                  },      \n",
    "\n",
    "            'economia':\n",
    "                {'Total': 0,\n",
    "                'PRODUÇÃO': 0,\n",
    "                 'PRODUTIVIDADE': 0,\n",
    "                 'MERCADO': 0,\n",
    "                 'INDÚSTRIA': 0,\n",
    "                 'COMÉRCIO': 0,\n",
    "                 'AGRICULTURA': 0,\n",
    "                 'SERVIÇOS': 0,\n",
    "                 'DESENVOLVIMENTO ECONÔMICO': 0,\n",
    "                 'FINANCEIRO': 0       \n",
    "                 },\n",
    "\n",
    "\n",
    "            'saude':\n",
    "                  {'Total': 0,\n",
    "                  'SAÚDE': 0\n",
    "                  }\n",
    "        }\n",
    "\n",
    "\n",
    "  }\n"
   ]
  },
  {
   "cell_type": "markdown",
   "metadata": {},
   "source": [
    "## Primeiro passo"
   ]
  },
  {
   "cell_type": "markdown",
   "metadata": {},
   "source": [
    "O sistema irá solicitar uma ou mais páginas web(dependendo de quantas urls ele encontre no dicionário)."
   ]
  },
  {
   "cell_type": "code",
   "execution_count": 32,
   "metadata": {
    "collapsed": true
   },
   "outputs": [],
   "source": [
    "import requests\n",
    "from bs4 import BeautifulSoup\n",
    "from base_de_dados import dicionario_geral\n",
    "\n",
    "def conecta_a_uma_pagina(endereco):\n",
    "\tpage = requests.get(endereco)\n",
    "\tsoup = BeautifulSoup(page.content, 'html.parser')\n",
    "\treturn soup\n",
    "\n",
    "def requisicao(dicionario,endereco):\n",
    "\tsoup=conecta_a_uma_pagina(endereco)\n",
    "\n",
    "\tconta_ocorencia_de_todos_os_topicos(dicionario,soup)\n",
    "\n"
   ]
  },
  {
   "cell_type": "markdown",
   "metadata": {},
   "source": [
    "## Segundo passo"
   ]
  },
  {
   "cell_type": "markdown",
   "metadata": {},
   "source": [
    "Para todos os tópicos, o sistema irá contar as ocorrencias de cada palavra."
   ]
  },
  {
   "cell_type": "code",
   "execution_count": 33,
   "metadata": {
    "collapsed": true
   },
   "outputs": [],
   "source": [
    "def conta_ocorencia_de_uma_palavra(procurada,soup):\t\t\n",
    "\ttotal_ocorencias=0\n",
    "\tfor i in soup.find_all('p'):\n",
    "\t\titem=str(i).upper()\n",
    "\t\tocorencias=item.count(procurada.upper())\n",
    "\t\ttotal_ocorencias+=ocorencias\n",
    "\treturn total_ocorencias\n",
    "\n",
    "\n",
    "def conta_ocorencia_de_todos_os_topicos(dicionario_de_topicos,soup):\n",
    "\tfor key_topico in dicionario_de_topicos.keys():\n",
    "\t\tif(key_topico!='urls'):\n",
    "\n",
    "\t\t\ttotal_de_ocorencias_de_um_topico=0\t\t\n",
    "\t\t\tfor palavra in dicionario_de_topicos[key_topico].keys():\t\t\n",
    "\t\t\t\tif(palavra!='Total'):\n",
    "\t\t\t\t\tnumero_ocorencias=conta_ocorencia_de_uma_palavra(palavra,soup)\n",
    "\t\t\t\t\tdicionario_de_topicos[key_topico][palavra]=numero_ocorencias\n",
    "\n",
    "\t\t\t\t\ttotal_de_ocorencias_de_um_topico+=numero_ocorencias\n",
    "\t\t\tdicionario_de_topicos[key_topico]['Total']=total_de_ocorencias_de_um_topico\n",
    "\treturn dicionario_de_topicos\n",
    "\n"
   ]
  },
  {
   "cell_type": "markdown",
   "metadata": {},
   "source": [
    "## Terceiro passo"
   ]
  },
  {
   "cell_type": "markdown",
   "metadata": {},
   "source": [
    "O sistema faz requisições de cada uma das url e calcula os pesos para cada tópico, ou seja, ele irá buscar uma página\n",
    "web, contar a quantidade de vezes que cada tópico aparece.\n",
    "Porém ele faz isso com todas as palavras que correspondem a um tópico e com todos os candidatos."
   ]
  },
  {
   "cell_type": "code",
   "execution_count": 34,
   "metadata": {
    "collapsed": true
   },
   "outputs": [],
   "source": [
    "def gera_as_contas():\n",
    "\tfor candidato in dicionario_geral.keys():\n",
    "\t\tfor topico in dicionario_geral[candidato].keys():\n",
    "\t\t\tif(topico==\"urls\"):\n",
    "\t\t\t\tfor url_key in dicionario_geral[candidato][topico].keys():\n",
    "\t\t\t\t\trequisicao(dicionario_geral[candidato],dicionario_geral[candidato][topico][url_key])\n"
   ]
  },
  {
   "cell_type": "markdown",
   "metadata": {},
   "source": [
    "## Último passo"
   ]
  },
  {
   "cell_type": "markdown",
   "metadata": {},
   "source": [
    "O sistema mostra o resultado das contas que fez."
   ]
  },
  {
   "cell_type": "code",
   "execution_count": 36,
   "metadata": {},
   "outputs": [
    {
     "name": "stdout",
     "output_type": "stream",
     "text": [
      "\n",
      "Candidato --------- Levi \n",
      "\n",
      "\n",
      "\n",
      "Tópico economia \n",
      "\n",
      "\n",
      "Total 41\n",
      "PRODUÇÃO 4\n",
      "PRODUTIVIDADE 1\n",
      "MERCADO 5\n",
      "INDÚSTRIA 8\n",
      "COMÉRCIO 4\n",
      "AGRICULTURA 3\n",
      "SERVIÇOS 6\n",
      "DESENVOLVIMENTO ECONÔMICO 3\n",
      "FINANCEIRO 7\n",
      "\n",
      "\n",
      "Tópico seguranca \n",
      "\n",
      "\n",
      "Total 40\n",
      "segurança 3\n",
      "PRODUTIVIDADE 1\n",
      "MERCADO 5\n",
      "INDÚSTRIA 8\n",
      "COMÉRCIO 4\n",
      "AGRICULTURA 3\n",
      "SERVIÇOS 6\n",
      "DESENVOLVIMENTO ECONÔMICO 3\n",
      "FINANCEIRO 7\n",
      "\n",
      "\n",
      "Tópico saude \n",
      "\n",
      "\n",
      "Total 8\n",
      "SAÚDE 8\n",
      "Hospital 0\n",
      "\n",
      "Candidato --------- Lula \n",
      "\n",
      "\n",
      "\n",
      "Tópico economia \n",
      "\n",
      "\n",
      "Total 41\n",
      "PRODUÇÃO 4\n",
      "PRODUTIVIDADE 1\n",
      "MERCADO 5\n",
      "INDÚSTRIA 8\n",
      "COMÉRCIO 4\n",
      "AGRICULTURA 3\n",
      "SERVIÇOS 6\n",
      "DESENVOLVIMENTO ECONÔMICO 3\n",
      "FINANCEIRO 7\n",
      "\n",
      "\n",
      "Tópico saude \n",
      "\n",
      "\n",
      "Total 8\n",
      "SAÚDE 8\n"
     ]
    }
   ],
   "source": [
    "\n",
    "def mostra_um_candidato(dicionario):\n",
    "\tfor topico in dicionario.keys():\n",
    "\t\tif(topico!=\"urls\"):\n",
    "\t\t\tprint(\"\\n\\nTópico\",topico,\"\\n\\n\")\n",
    "\t\t\tfor palavra in dicionario[topico].keys():\n",
    "\t\t\t\tqnde_de_vezes_q_a_palavra_repetiu=dicionario[topico][palavra]\n",
    "\t\t\t\tprint(palavra, qnde_de_vezes_q_a_palavra_repetiu)\n",
    "\n",
    "\n",
    "\n",
    "def mostra_todos_os_candidatos(dicionario_geral):\t\t\t\t\t\t\t\n",
    "\tfor candidato in dicionario_geral.keys():\n",
    "\t\tprint(\"\\nCandidato ---------\",candidato,\"\\n\")\n",
    "\t\tmostra_um_candidato(dicionario_geral[candidato])\n",
    "        \n",
    "gera_as_contas()        \n",
    "mostra_todos_os_candidatos(dicionario_geral)"
   ]
  }
 ],
 "metadata": {
  "kernelspec": {
   "display_name": "Python 3",
   "language": "python",
   "name": "python3"
  },
  "language_info": {
   "codemirror_mode": {
    "name": "ipython",
    "version": 3
   },
   "file_extension": ".py",
   "mimetype": "text/x-python",
   "name": "python",
   "nbconvert_exporter": "python",
   "pygments_lexer": "ipython3",
   "version": "3.6.3"
  }
 },
 "nbformat": 4,
 "nbformat_minor": 2
}
